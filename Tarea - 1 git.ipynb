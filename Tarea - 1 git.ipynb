{
 "cells": [
  {
   "cell_type": "markdown",
   "source": [
    "<img style=\"float: left; margin: 30px 15px 15px 15px;\" src=\"https://encrypted-tbn0.gstatic.com/images?q=tbn:ANd9GcTFzQj91sOlkeDFkg5HDbjtR4QJYmLXkfMNig&usqp=CAU\" width=\"400\" height=\"500\" /> \n",
    "    \n",
    "    \n",
    "### <font color='navy'> Modelos no lineales para pronósticos. \n",
    "\n",
    "**Nombres:** Andre Gonzalez, Rafael Juarez Badillo\n",
    "\n",
    "**Fecha:** 30 de enero del 2024.\n",
    "\n",
    "**Expediente** : XXX.\n",
    "    \n",
    "**Profesor:** Oscar David Jaramillo Zuluaga.\n",
    "    \n",
    "**Link Github**: Link con el enlace del repositorio del creador del proyecto\n",
    "\n",
    "# Tarea X: Clase X"
   ],
   "metadata": {
    "collapsed": false
   },
   "id": "cfab77c69f2aa410"
  },
  {
   "cell_type": "markdown",
   "source": [
    "# <font color=red>**Tarea 1- git**</font> \n",
    "### Fecha de entrega: Martes 30 de enero.\n",
    "### Recuerden que en canvas se encuntra el archivo Plantilla tareas, en donde deben de solucionar todas sus tareas.\n",
    "\n",
    "Este archivo contiene las pautas necesarias para crear el archivo conjunto en Github, usando los notebooks de Jupyter:\n",
    "\n",
    "1.  El archivo debe realizarse en parejas y sólo uno de los dos debe crear en su cuenta de *Github* un repositorio con el nombre **ProyectoConjunto\\_APELLIDO1\\_APELLIDO2**. A la persona que creó el repositorio la llamaremos (ESTUDIANTE 1 ). El APELLIDO se debe de escribir (Iniciales del nombre y primer apellido), por ejemplo si yo creara el archivo lo debería de nombrar *ProyectoConjunto\\_ODJaramillo*. \n",
    "1.  Posteriormente, desde la cuenta del (ESTUDIANTE 2), 'aquel que no creó el repositorio anterior', ingresar al perfil del ESTUDIANTE 1 y en el repositorio creado en el paso 1, realizar un \"fork\" de este repositorio en su perfil, y además realizar los pasos en Gitkraken para hacer dicho repositorio \"Remoto (REMOTE)\" VER DICHO PROCEDIMIENTO EN LA CLASE **Clase2_GitTurorial2**.\n",
    "1.  Luego de realizados los pasos 1 y 2, el ESTUDIANTE 1 y ESTUDIANTE 2, desde su computador realizar un *clone* del repositorio creado en el numeral 1 en la carpeta que cada quién haya asignado para el curso en su computador. \n",
    "1.  Luego desde Jupyter el ESTUDIANTE 1, crea un nuevo ``notebook`` en el repositorio del paso 3. \n",
    "1.  En este nuevo notebook el ESTUDIANTE 1 y ESTUDIANTE 2, deben realizar una presentación describiendo sus expectativas del curso y la transcipción de la Figura 1 y Figura 2 respectivamente, haciendo uso de la sintaxis Markdown. Recuerden definir unas celdas donde cada usuario modificará el cuaderno de python para evitar futuros conflictos. \n",
    "\n",
    "**RECOMENDACIÓN:ANTES DE EMPEZAR A REALIZAR MUCHAS MODIFICACIONES DEL NOTEBOOK PRIMERO REALICEN CAMBIOS PEQUEÑOS EN EL ARCHIVO EN CONJUNTO Y VERIFIQUEN SI TANTO EL ``ESTUDIANTE 1`` COMO EL ``ESTUDIANTE 2``  RECIBEN LAS ACTUALIZACIONES QUE REALIZAN CADA UNO EN EL PROYECTO PARA VERIFICAR QUE EL REMOTE ESTUVO BIEN CONFIGURADO.**\n",
    ">Les recomiendo ver los siguientes enlaces para ver distintas funciones para escribir en markdown.\n",
    ">    - [Creador de tablas online](https://www.tablesgenerator.com/markdown_tables)\n",
    ">    - [Sintáxis markdown](https://joplinapp.org/markdown/)\n",
    "\n",
    "6. Cuando ya se encuentre el proyecto conjunto con la información del ESTUDIANTE 1 y ESTUDIANTE 2, el ``ESTUDIANTE 2``  debe de realizar un `pull request` con las modificaciones realizadas a el `ESTUDIANTE 1` para que este realice un merge a la rama `master`, con las moficaciones propuestas por el `ESTUDIANTE 2`, TAL Y CÓMO SE REALIZÓ EN CLASE. (Recuerden que los pull request se generan en *Gitkraken* y se administran los comentarios o cambios propuestos por su compañero desde *Github* ver `Clase1_GitTurorial` para aclaración de dudas, donde se explica cómo crear *branch y pull request*)\n"
   ],
   "metadata": {
    "collapsed": false
   },
   "id": "7c835075f1b21fbe"
  },
  {
   "cell_type": "markdown",
   "source": [
    "**Código de solución Rafael Juarez**\n",
    "Espero aprender a trabajar de una manera eficiente en equipo, también espero poder hacer predicciones de series de tiempo que no tengan estacionalidad.\n",
    "\n",
    "\\begin{array}{|c|c|c|}\n",
    "\\hline \\hline \\text i & x & f(x) \\\\\n",
    "\\hline \n",
    "0 & -1 & 0.3678 \\\\\n",
    "\\color{red} 1 & \\color{red}-\\color{red}0\\color{red}.\\color{red}5 & \\color{red}0\\color{red}.\\color{red}7\\color{red}7\\color{red}8\\color{red}8 \\\\\n",
    "\\color{blue} 2 & \\color{blue}0 & \\color{blue}1 \\\\\n",
    "\\color{red} 3 & \\color{red}0\\color{red}.\\color{red}5 & \\color{red}0\\color{red}.\\color{red}7\\color{red}7\\color{red}8\\color{red}8 \\\\\n",
    "4 & 1 & 0.3678 \\\\\n",
    "\\hline\n",
    "\\end{array}\n",
    "\n",
    "\n",
    "<p style=\"text-align: center;\"> Cuadro 1: Tabla de valores de $f(x)$ </p>\n",
    "\n",
    "\\begin{aligned}\n",
    "\\int_{-1}^1 e^{-x^2} dx & \\approx \\frac{0.5}{3}[\\mathbf{f(-1)} + \\mathbf{f(1)} + 4 (\\color{red}\\mathbf{f(-0.5)} + \\mathbf{f(0.5)} \\color{none}) + 2 \\color{blue}\\mathbf{f(0)}\\color{none}] \\\\\n",
    "& \\approx \\frac{0.5}{3}[0.3678 + 0.3678 + 4(\\color{red}0.7788 + 0.7788\\color{none}) + 2\\cdot\\color{blue}1\\color{none}] \\\\\n",
    "& \\approx 1.4943\n",
    "\\end{aligned}\n",
    "\n",
    "\n",
    "A modo de verificación, se calculará por software, el valor del área para $n=100$, un valor mucho más elevado al que se utilizó anteriormente. Si lo calculado previamente es correcto, se esperaría que sea próximo al valor presentado a continuación para ser una buena aproximación.\n",
    "\n",
    "\\begin{aligned}\n",
    "\\int_{-1}^1 e^{-x^2} dx \\approx 1.4936\n",
    "\\end{aligned}"
   ],
   "metadata": {
    "collapsed": false
   },
   "id": "3dc4b8117851e0ca"
  },
  {
   "cell_type": "markdown",
   "source": [
    "Código de solución estudiante 2"
   ],
   "metadata": {
    "collapsed": false
   },
   "id": "22563d416918c524"
  },
  {
   "cell_type": "code",
   "execution_count": null,
   "outputs": [],
   "source": [
    "# Código de solución estudiante 2\n",
    ".\n",
    ".\n",
    ".\n",
    "."
   ],
   "metadata": {
    "collapsed": false
   },
   "id": "fa5b46322182d92a"
  }
 ],
 "metadata": {
  "kernelspec": {
   "display_name": "Python 3",
   "language": "python",
   "name": "python3"
  },
  "language_info": {
   "codemirror_mode": {
    "name": "ipython",
    "version": 2
   },
   "file_extension": ".py",
   "mimetype": "text/x-python",
   "name": "python",
   "nbconvert_exporter": "python",
   "pygments_lexer": "ipython2",
   "version": "2.7.6"
  }
 },
 "nbformat": 4,
 "nbformat_minor": 5
}
